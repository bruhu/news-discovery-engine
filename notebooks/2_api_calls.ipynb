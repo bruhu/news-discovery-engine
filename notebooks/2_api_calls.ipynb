{
 "cells": [
  {
   "cell_type": "markdown",
   "metadata": {},
   "source": [
    "# API Call from Mediastack Open API\n",
    "\n",
    "[Documentation](https://mediastack.com/documentation)\n",
    "\n",
    "[API Key](https://mediastack.com/account/api-keys)\n"
   ]
  },
  {
   "cell_type": "code",
   "execution_count": 1,
   "metadata": {},
   "outputs": [
    {
     "data": {
      "text/plain": [
       "True"
      ]
     },
     "execution_count": 1,
     "metadata": {},
     "output_type": "execute_result"
    }
   ],
   "source": [
    "import pandas as pd\n",
    "import re\n",
    "import html\n",
    "import http.client\n",
    "import urllib.parse\n",
    "from dotenv import load_dotenv\n",
    "import os\n",
    "import json\n",
    "\n",
    "\n",
    "load_dotenv()"
   ]
  },
  {
   "cell_type": "markdown",
   "metadata": {},
   "source": [
    "#### API Call"
   ]
  },
  {
   "cell_type": "code",
   "execution_count": 2,
   "metadata": {},
   "outputs": [],
   "source": [
    "# conn = http.client.HTTPConnection('api.mediastack.com')\n",
    "\n",
    "# params = urllib.parse.urlencode({\n",
    "#     'access_key': os.getenv('MEDIASTACK_API_KEY'),\n",
    "#     'languages': 'en',\n",
    "#     'categories': 'general',\n",
    "#     'sort': 'published_desc',\n",
    "#     'limit': 10,\n",
    "#     })\n",
    "\n",
    "# conn.request('GET', '/v1/news?{}'.format(params))\n",
    "\n",
    "# res = conn.getresponse()\n",
    "# data = res.read()\n",
    "\n",
    "# print(data.decode('utf-8'))"
   ]
  },
  {
   "cell_type": "markdown",
   "metadata": {},
   "source": [
    "#### Read JSON"
   ]
  },
  {
   "cell_type": "code",
   "execution_count": 10,
   "metadata": {},
   "outputs": [
    {
     "name": "stdout",
     "output_type": "stream",
     "text": [
      "{\n",
      "    \"pagination\": {\n",
      "        \"limit\": 10,\n",
      "        \"offset\": 0,\n",
      "        \"count\": 10,\n",
      "        \"total\": 10000\n",
      "    },\n",
      "    \"data\": [\n",
      "        {\n",
      "            \"author\": \"CBS News\",\n",
      "            \"title\": \"Starbucks reverses its open-door policy, requiring people to make a purchase if they want to stay\",\n",
      "            \"description\": \"MGN Starbucks is reversing its open-door policy after almost seven years, now requiring that people make a purchase if they want to hang out at its coffee shops or use its restrooms. The coffee giant said on Monday that a new code of conduct \\u2013 which will be posted in all company-owned North American stores \\u2013 will also ban discrimination...\",\n",
      "            \"url\": \"https://www.wdef.com/starbucks-reverses-its-open-door-policy-requiring-people-to-make-a-purchase-if-they-want-to-stay/\",\n",
      "            \"source\": \"wdef\",\n",
      "            \"image\": null,\n",
      "            \"category\": \"general\",\n",
      "            \"language\": \"en\",\n",
      "            \"country\": \"us\",\n",
      "            \"published_at\": \"2025-01-14T16:47:54+00:00\"\n",
      "        },\n",
      "        {\n",
      "            \"author\": \"Bloomberg\",\n",
      "            \"title\": \"China weighs sale of TikTok US to Elon Musk\",\n",
      "            \"description\": \"Musk\\u2019s X \\u2014 formerly Twitter \\u2014 would take control of TikTok US and run the businesses together.\",\n",
      "            \"url\": \"https://www.dailybulletin.com/2025/01/14/china-weighs-sale-of-tiktok-us-to-musk-as-a-possible-option/\",\n",
      "            \"source\": \"dailybulletin\",\n",
      "            \"image\": \"https://www.dailybulletin.com/wp-content/uploads/2024/11/OCR-Z-MUSK-CFPB-1128.jpg?w=1400px&strip=all\",\n",
      "            \"category\": \"general\",\n",
      "            \"language\": \"en\",\n",
      "            \"country\": \"us\",\n",
      "            \"published_at\": \"2025-01-14T16:47:46+00:00\"\n",
      "        },\n",
      "        {\n",
      "            \"author\": \"Bloomberg\",\n",
      "            \"title\": \"China weighs sale of TikTok US to Elon Musk\",\n",
      "            \"description\": \"Musk\\u2019s X \\u2014 formerly Twitter \\u2014 would take control of TikTok US and run the businesses together.\",\n",
      "            \"url\": \"https://www.dailybreeze.com/2025/01/14/china-weighs-sale-of-tiktok-us-to-musk-as-a-possible-option/\",\n",
      "            \"source\": \"dailybreeze\",\n",
      "            \"image\": \"https://www.dailybreeze.com/wp-content/uploads/2024/11/OCR-Z-MUSK-CFPB-1128.jpg?w=1400px&strip=all\",\n",
      "            \"category\": \"general\",\n",
      "            \"language\": \"en\",\n",
      "            \"country\": \"us\",\n",
      "            \"published_at\": \"2025-01-14T16:47:46+00:00\"\n",
      "        },\n",
      "        {\n",
      "            \"author\": \"Bloomberg\",\n",
      "            \"title\": \"China weighs sale of TikTok US to Musk\",\n",
      "            \"description\": \"Musk\\u2019s X \\u2014 formerly Twitter \\u2014 would take control of TikTok US and run the businesses together.\",\n",
      "            \"url\": \"https://www.dailynews.com/2025/01/14/china-weighs-sale-of-tiktok-us-to-musk-as-a-possible-option/\",\n",
      "            \"source\": \"dailynews\",\n",
      "            \"image\": \"https://www.dailynews.com/wp-content/uploads/2024/11/OCR-Z-MUSK-CFPB-1128.jpg?w=1400px&strip=all\",\n",
      "            \"category\": \"general\",\n",
      "            \"language\": \"en\",\n",
      "            \"country\": \"us\",\n",
      "            \"published_at\": \"2025-01-14T16:47:46+00:00\"\n",
      "        },\n",
      "        {\n",
      "            \"author\": \"Bloomberg\",\n",
      "            \"title\": \"China weighs sale of TikTok US to Musk\",\n",
      "            \"description\": \"Musk\\u2019s X \\u2014 formerly Twitter \\u2014 would take control of TikTok US and run the businesses together.\",\n",
      "            \"url\": \"https://www.presstelegram.com/2025/01/14/china-weighs-sale-of-tiktok-us-to-musk-as-a-possible-option/\",\n",
      "            \"source\": \"presstelegram\",\n",
      "            \"image\": \"https://www.presstelegram.com/wp-content/uploads/2024/11/OCR-Z-MUSK-CFPB-1128.jpg?w=1400px&strip=all\",\n",
      "            \"category\": \"general\",\n",
      "            \"language\": \"en\",\n",
      "            \"country\": \"us\",\n",
      "            \"published_at\": \"2025-01-14T16:47:46+00:00\"\n",
      "        },\n",
      "        {\n",
      "            \"author\": \"Bloomberg\",\n",
      "            \"title\": \"China weighs sale of TikTok US to Musk\",\n",
      "            \"description\": \"Musk\\u2019s X \\u2014 formerly Twitter \\u2014 would take control of TikTok US and run the businesses together.\",\n",
      "            \"url\": \"https://www.whittierdailynews.com/2025/01/14/china-weighs-sale-of-tiktok-us-to-musk-as-a-possible-option/\",\n",
      "            \"source\": \"whittierdailynews\",\n",
      "            \"image\": \"https://www.whittierdailynews.com/wp-content/uploads/2024/11/OCR-Z-MUSK-CFPB-1128.jpg?w=1400px&strip=all\",\n",
      "            \"category\": \"general\",\n",
      "            \"language\": \"en\",\n",
      "            \"country\": \"us\",\n",
      "            \"published_at\": \"2025-01-14T16:47:46+00:00\"\n",
      "        },\n",
      "        {\n",
      "            \"author\": \"Bloomberg\",\n",
      "            \"title\": \"China weighs sale of TikTok US to Musk\",\n",
      "            \"description\": \"Musk\\u2019s X \\u2014 formerly Twitter \\u2014 would take control of TikTok US and run the businesses together.\",\n",
      "            \"url\": \"https://www.pasadenastarnews.com/2025/01/14/china-weighs-sale-of-tiktok-us-to-musk-as-a-possible-option/\",\n",
      "            \"source\": \"pasadenastarnews\",\n",
      "            \"image\": \"https://www.pasadenastarnews.com/wp-content/uploads/2024/11/OCR-Z-MUSK-CFPB-1128.jpg?w=1400px&strip=all\",\n",
      "            \"category\": \"general\",\n",
      "            \"language\": \"en\",\n",
      "            \"country\": \"us\",\n",
      "            \"published_at\": \"2025-01-14T16:47:46+00:00\"\n",
      "        },\n",
      "        {\n",
      "            \"author\": \"Rowland Kpakete\",\n",
      "            \"title\": \"US: Experts debunk five claims about LA wildfires\",\n",
      "            \"description\": \"Tribune OnlineUS: Experts debunk five claims about LA wildfiresAs \\u2018devastating\\u2019 wildfires continue to spread across Southern California, experts claim that misinformation has also been circulating at alarming rates. Here are five key claims about the fires and the response, with factual clarifications provided by experts and officials: Claim: Gov. Newsom&#8217;s policies are to blame for Water Shortages for Hydrants This claim is said [&#8230;]US: Experts debunk five claims about LA wildfiresTribune Online\",\n",
      "            \"url\": \"https://tribuneonlineng.com/us-experts-debunk-five-claims-about-la-wildfires/\",\n",
      "            \"source\": \"tribune\",\n",
      "            \"image\": null,\n",
      "            \"category\": \"general\",\n",
      "            \"language\": \"en\",\n",
      "            \"country\": \"ng\",\n",
      "            \"published_at\": \"2025-01-14T16:47:33+00:00\"\n",
      "        },\n",
      "        {\n",
      "            \"author\": \"newsdesk@men-news.co.uk (Carrington Walker, Christopher Adams)\",\n",
      "            \"title\": \"Pilot reveals the common airport question he can't answer without using Google\",\n",
      "            \"description\": \"A pilot has revealed the one question he is repeatedly asked by travellers that requires him to look up the answer\",\n",
      "            \"url\": \"https://www.manchestereveningnews.co.uk/news/pilot-reveals-common-airport-question-30782033\",\n",
      "            \"source\": \"Manchester Evening News\",\n",
      "            \"image\": \"https://i2-prod.manchestereveningnews.co.uk/news/article30782032.ece/ALTERNATES/s98/0_Pilot-at-control-of-jet-aeroplane.jpg\",\n",
      "            \"category\": \"general\",\n",
      "            \"language\": \"en\",\n",
      "            \"country\": \"gb\",\n",
      "            \"published_at\": \"2025-01-14T16:47:30+00:00\"\n",
      "        },\n",
      "        {\n",
      "            \"author\": null,\n",
      "            \"title\": \"Flashback: Your Weekly History Quiz, Jan. 10, 2025\",\n",
      "            \"description\": \"Can you sort 8 historical events?\",\n",
      "            \"url\": \"https://www.nytimes.com/interactive/2025/01/10/upshot/flashback.html\",\n",
      "            \"source\": \"economix\",\n",
      "            \"image\": null,\n",
      "            \"category\": \"general\",\n",
      "            \"language\": \"en\",\n",
      "            \"country\": \"us\",\n",
      "            \"published_at\": \"2025-01-14T16:47:23+00:00\"\n",
      "        }\n",
      "    ]\n",
      "}\n"
     ]
    }
   ],
   "source": [
    "with open('../data/raw/test_api_response.json', 'r') as file:\n",
    "    data = json.load(file)\n",
    "\n",
    "pretty_json = json.dumps(data, indent=4)    # prettify json response\n",
    "\n",
    "print(pretty_json)\n"
   ]
  },
  {
   "cell_type": "code",
   "execution_count": null,
   "metadata": {},
   "outputs": [],
   "source": []
  }
 ],
 "metadata": {
  "kernelspec": {
   "display_name": "venv",
   "language": "python",
   "name": "python3"
  },
  "language_info": {
   "codemirror_mode": {
    "name": "ipython",
    "version": 3
   },
   "file_extension": ".py",
   "mimetype": "text/x-python",
   "name": "python",
   "nbconvert_exporter": "python",
   "pygments_lexer": "ipython3",
   "version": "3.12.3"
  }
 },
 "nbformat": 4,
 "nbformat_minor": 2
}
