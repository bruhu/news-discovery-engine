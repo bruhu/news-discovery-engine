{
 "cells": [
  {
   "cell_type": "markdown",
   "metadata": {},
   "source": [
    "## Check Mediastack Dataset"
   ]
  },
  {
   "cell_type": "markdown",
   "metadata": {},
   "source": [
    "#### Metadatata"
   ]
  },
  {
   "cell_type": "code",
   "execution_count": 13,
   "metadata": {},
   "outputs": [],
   "source": [
    "import pandas as pd\n",
    "import re"
   ]
  },
  {
   "cell_type": "code",
   "execution_count": 14,
   "metadata": {},
   "outputs": [],
   "source": [
    "import sys\n",
    "sys.path.append('../utils')\n",
    "import functions"
   ]
  },
  {
   "cell_type": "code",
   "execution_count": null,
   "metadata": {},
   "outputs": [],
   "source": [
    "mediastack_df = pd.read_csv('../data/raw/news_sentiment_analysis.csv')\n",
    "\n",
    "mediastack_df.head()"
   ]
  },
  {
   "cell_type": "code",
   "execution_count": null,
   "metadata": {},
   "outputs": [],
   "source": [
    "functions.show_basic_info(mediastack_df)"
   ]
  },
  {
   "cell_type": "code",
   "execution_count": null,
   "metadata": {},
   "outputs": [],
   "source": [
    "functions.show_data_types(mediastack_df)"
   ]
  },
  {
   "cell_type": "code",
   "execution_count": null,
   "metadata": {},
   "outputs": [],
   "source": [
    "functions.show_missing_values(mediastack_df)"
   ]
  },
  {
   "cell_type": "code",
   "execution_count": null,
   "metadata": {},
   "outputs": [],
   "source": [
    "functions.check_for_duplicates(mediastack_df)"
   ]
  },
  {
   "cell_type": "markdown",
   "metadata": {},
   "source": [
    "### Data Cleaning\n",
    "\n",
    "1. Standardize column names\n",
    "2. Replace empty values in the 'author' column with 'Unknown'\n",
    "3. Standardize publishing date format\n"
   ]
  },
  {
   "cell_type": "markdown",
   "metadata": {},
   "source": [
    "1. Rename columns"
   ]
  },
  {
   "cell_type": "code",
   "execution_count": 20,
   "metadata": {},
   "outputs": [],
   "source": [
    "rename_dict = {\n",
    "    'Source': 'source',\n",
    "    'Author': 'author',\n",
    "    'Title': 'title',\n",
    "    'Description': 'description',\n",
    "    'URL': 'url',\n",
    "    'Published At': 'published_at',\n",
    "    'Sentiment': 'sentiment',\n",
    "    'Type': 'content_type'\n",
    "}\n",
    "\n",
    "mediastack_df = functions.rename_columns(mediastack_df, rename_dict)"
   ]
  },
  {
   "cell_type": "markdown",
   "metadata": {},
   "source": [
    "2. Replace empty values in the 'author' column with 'Unknown'"
   ]
  },
  {
   "cell_type": "code",
   "execution_count": 21,
   "metadata": {},
   "outputs": [],
   "source": [
    "def replace_empty_values(df, column_name, default_value):\n",
    "    \"\"\"\n",
    "    Replaces empty or missing values in the specified column with a default value.\n",
    "    \n",
    "    Parameters:\n",
    "    - df (pd.DataFrame): The DataFrame to modify.\n",
    "    - column_name (str): The name of the column to check for empty values.\n",
    "    - default_value (str): The value to replace empty or missing values with.\n",
    "    \n",
    "    Returns:\n",
    "    - pd.DataFrame: The modified DataFrame with empty values replaced.\n",
    "    \"\"\"\n",
    "    df[column_name] = df[column_name].replace(['', None], default_value)\n",
    "    return df\n"
   ]
  },
  {
   "cell_type": "code",
   "execution_count": 22,
   "metadata": {},
   "outputs": [],
   "source": [
    "mediastack_df = replace_empty_values(mediastack_df, 'author', 'Unknown')"
   ]
  },
  {
   "cell_type": "markdown",
   "metadata": {},
   "source": [
    "3. Standardize publishing date format"
   ]
  },
  {
   "cell_type": "code",
   "execution_count": 23,
   "metadata": {},
   "outputs": [],
   "source": [
    "\n",
    "def standardize_date_format(df, column_name):\n",
    "    \"\"\"\n",
    "    Standardizes the date format in the specified column to 'YYYY-MM-DD'.\n",
    "    \n",
    "    Parameters:\n",
    "    - df (pd.DataFrame): The DataFrame to modify.\n",
    "    - column_name (str): The name of the column containing the date to standardize.\n",
    "    \n",
    "    Returns:\n",
    "    - pd.DataFrame: The modified DataFrame with the standardized date format.\n",
    "    \"\"\"\n",
    "    df[column_name] = pd.to_datetime(df[column_name], errors='coerce').dt.strftime('%Y-%m-%d')\n",
    "    return df\n"
   ]
  },
  {
   "cell_type": "code",
   "execution_count": null,
   "metadata": {},
   "outputs": [],
   "source": [
    "mediastack_df = standardize_date_format(mediastack_df, 'published_at')\n",
    "\n",
    "mediastack_df.head()"
   ]
  }
 ],
 "metadata": {
  "kernelspec": {
   "display_name": "venv",
   "language": "python",
   "name": "python3"
  },
  "language_info": {
   "codemirror_mode": {
    "name": "ipython",
    "version": 3
   },
   "file_extension": ".py",
   "mimetype": "text/x-python",
   "name": "python",
   "nbconvert_exporter": "python",
   "pygments_lexer": "ipython3",
   "version": "3.12.3"
  }
 },
 "nbformat": 4,
 "nbformat_minor": 2
}
