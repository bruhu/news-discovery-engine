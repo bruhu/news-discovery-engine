{
 "cells": [
  {
   "cell_type": "markdown",
   "metadata": {},
   "source": [
    "## Check Mediastack Dataset"
   ]
  },
  {
   "cell_type": "markdown",
   "metadata": {},
   "source": [
    "#### Metadatata"
   ]
  },
  {
   "cell_type": "code",
   "execution_count": 1,
   "metadata": {},
   "outputs": [],
   "source": [
    "import pandas as pd\n",
    "import re"
   ]
  },
  {
   "cell_type": "code",
   "execution_count": 2,
   "metadata": {},
   "outputs": [],
   "source": [
    "import sys\n",
    "sys.path.append('../utils')\n",
    "import functions"
   ]
  },
  {
   "cell_type": "code",
   "execution_count": 3,
   "metadata": {},
   "outputs": [
    {
     "data": {
      "text/html": [
       "<div>\n",
       "<style scoped>\n",
       "    .dataframe tbody tr th:only-of-type {\n",
       "        vertical-align: middle;\n",
       "    }\n",
       "\n",
       "    .dataframe tbody tr th {\n",
       "        vertical-align: top;\n",
       "    }\n",
       "\n",
       "    .dataframe thead th {\n",
       "        text-align: right;\n",
       "    }\n",
       "</style>\n",
       "<table border=\"1\" class=\"dataframe\">\n",
       "  <thead>\n",
       "    <tr style=\"text-align: right;\">\n",
       "      <th></th>\n",
       "      <th>Source</th>\n",
       "      <th>Author</th>\n",
       "      <th>Title</th>\n",
       "      <th>Description</th>\n",
       "      <th>URL</th>\n",
       "      <th>Published At</th>\n",
       "      <th>Sentiment</th>\n",
       "      <th>Type</th>\n",
       "    </tr>\n",
       "  </thead>\n",
       "  <tbody>\n",
       "    <tr>\n",
       "      <th>0</th>\n",
       "      <td>stgnews</td>\n",
       "      <td>Bridger Palmer</td>\n",
       "      <td>Pine View High teacher wins Best in State awar...</td>\n",
       "      <td>ST. GEORGE — Kaitlyn Larson, a first-year teac...</td>\n",
       "      <td>https://www.stgeorgeutah.com/news/archive/2024...</td>\n",
       "      <td>2024-07-12T23:45:25+00:00</td>\n",
       "      <td>positive</td>\n",
       "      <td>Business</td>\n",
       "    </tr>\n",
       "    <tr>\n",
       "      <th>1</th>\n",
       "      <td>Zimbabwe Mail</td>\n",
       "      <td>Staff Reporter</td>\n",
       "      <td>Businesses Face Financial Strain Amid Liquidit...</td>\n",
       "      <td>Harare, Zimbabwe – Local businesses are grappl...</td>\n",
       "      <td>https://www.thezimbabwemail.com/business/busin...</td>\n",
       "      <td>2024-07-12T22:59:42+00:00</td>\n",
       "      <td>neutral</td>\n",
       "      <td>Business</td>\n",
       "    </tr>\n",
       "    <tr>\n",
       "      <th>2</th>\n",
       "      <td>4-traders</td>\n",
       "      <td>NaN</td>\n",
       "      <td>Musk donates to super pac working to elect Tru...</td>\n",
       "      <td>(marketscreener.com) Billionaire Elon Musk has...</td>\n",
       "      <td>https://www.marketscreener.com/business-leader...</td>\n",
       "      <td>2024-07-12T22:52:55+00:00</td>\n",
       "      <td>positive</td>\n",
       "      <td>Business</td>\n",
       "    </tr>\n",
       "    <tr>\n",
       "      <th>3</th>\n",
       "      <td>4-traders</td>\n",
       "      <td>NaN</td>\n",
       "      <td>US FTC issues warning to franchisors over unfa...</td>\n",
       "      <td>(marketscreener.com) A U.S. trade regulator on...</td>\n",
       "      <td>https://www.marketscreener.com/quote/stock/MCD...</td>\n",
       "      <td>2024-07-12T22:41:01+00:00</td>\n",
       "      <td>negative</td>\n",
       "      <td>Business</td>\n",
       "    </tr>\n",
       "    <tr>\n",
       "      <th>4</th>\n",
       "      <td>PLANET</td>\n",
       "      <td>NaN</td>\n",
       "      <td>Rooftop solar's dark side</td>\n",
       "      <td>4.5 million households in the U.S. have solar ...</td>\n",
       "      <td>https://www.npr.org/2024/07/12/1197961036/roof...</td>\n",
       "      <td>2024-07-12T22:28:19+00:00</td>\n",
       "      <td>positive</td>\n",
       "      <td>Business</td>\n",
       "    </tr>\n",
       "  </tbody>\n",
       "</table>\n",
       "</div>"
      ],
      "text/plain": [
       "          Source          Author  \\\n",
       "0        stgnews  Bridger Palmer   \n",
       "1  Zimbabwe Mail  Staff Reporter   \n",
       "2      4-traders             NaN   \n",
       "3      4-traders             NaN   \n",
       "4         PLANET             NaN   \n",
       "\n",
       "                                               Title  \\\n",
       "0  Pine View High teacher wins Best in State awar...   \n",
       "1  Businesses Face Financial Strain Amid Liquidit...   \n",
       "2  Musk donates to super pac working to elect Tru...   \n",
       "3  US FTC issues warning to franchisors over unfa...   \n",
       "4                          Rooftop solar's dark side   \n",
       "\n",
       "                                         Description  \\\n",
       "0  ST. GEORGE — Kaitlyn Larson, a first-year teac...   \n",
       "1  Harare, Zimbabwe – Local businesses are grappl...   \n",
       "2  (marketscreener.com) Billionaire Elon Musk has...   \n",
       "3  (marketscreener.com) A U.S. trade regulator on...   \n",
       "4  4.5 million households in the U.S. have solar ...   \n",
       "\n",
       "                                                 URL  \\\n",
       "0  https://www.stgeorgeutah.com/news/archive/2024...   \n",
       "1  https://www.thezimbabwemail.com/business/busin...   \n",
       "2  https://www.marketscreener.com/business-leader...   \n",
       "3  https://www.marketscreener.com/quote/stock/MCD...   \n",
       "4  https://www.npr.org/2024/07/12/1197961036/roof...   \n",
       "\n",
       "                Published At Sentiment      Type  \n",
       "0  2024-07-12T23:45:25+00:00  positive  Business  \n",
       "1  2024-07-12T22:59:42+00:00   neutral  Business  \n",
       "2  2024-07-12T22:52:55+00:00  positive  Business  \n",
       "3  2024-07-12T22:41:01+00:00  negative  Business  \n",
       "4  2024-07-12T22:28:19+00:00  positive  Business  "
      ]
     },
     "execution_count": 3,
     "metadata": {},
     "output_type": "execute_result"
    }
   ],
   "source": [
    "mediastack_df = pd.read_csv('../data/raw/news_sentiment_analysis.csv')\n",
    "\n",
    "mediastack_df.head()"
   ]
  },
  {
   "cell_type": "code",
   "execution_count": 4,
   "metadata": {},
   "outputs": [
    {
     "name": "stdout",
     "output_type": "stream",
     "text": [
      "\n",
      "DataFrame Shape: (3500, 8)\n",
      "Number of Rows: 3500\n",
      "Number of Columns: 8\n",
      "\n",
      "Data Types of Columns:\n",
      "Source          object\n",
      "Author          object\n",
      "Title           object\n",
      "Description     object\n",
      "URL             object\n",
      "Published At    object\n",
      "Sentiment       object\n",
      "Type            object\n",
      "dtype: object\n",
      "\n",
      "Missing Values per Column:\n",
      "Source            0\n",
      "Author          988\n",
      "Title             0\n",
      "Description       0\n",
      "URL               0\n",
      "Published At      0\n",
      "Sentiment         0\n",
      "Type              0\n",
      "dtype: int64\n",
      "\n",
      "First 5 Rows of Data:\n",
      "          Source          Author  \\\n",
      "0        stgnews  Bridger Palmer   \n",
      "1  Zimbabwe Mail  Staff Reporter   \n",
      "2      4-traders             NaN   \n",
      "3      4-traders             NaN   \n",
      "4         PLANET             NaN   \n",
      "\n",
      "                                               Title  \\\n",
      "0  Pine View High teacher wins Best in State awar...   \n",
      "1  Businesses Face Financial Strain Amid Liquidit...   \n",
      "2  Musk donates to super pac working to elect Tru...   \n",
      "3  US FTC issues warning to franchisors over unfa...   \n",
      "4                          Rooftop solar's dark side   \n",
      "\n",
      "                                         Description  \\\n",
      "0  ST. GEORGE — Kaitlyn Larson, a first-year teac...   \n",
      "1  Harare, Zimbabwe – Local businesses are grappl...   \n",
      "2  (marketscreener.com) Billionaire Elon Musk has...   \n",
      "3  (marketscreener.com) A U.S. trade regulator on...   \n",
      "4  4.5 million households in the U.S. have solar ...   \n",
      "\n",
      "                                                 URL  \\\n",
      "0  https://www.stgeorgeutah.com/news/archive/2024...   \n",
      "1  https://www.thezimbabwemail.com/business/busin...   \n",
      "2  https://www.marketscreener.com/business-leader...   \n",
      "3  https://www.marketscreener.com/quote/stock/MCD...   \n",
      "4  https://www.npr.org/2024/07/12/1197961036/roof...   \n",
      "\n",
      "                Published At Sentiment      Type  \n",
      "0  2024-07-12T23:45:25+00:00  positive  Business  \n",
      "1  2024-07-12T22:59:42+00:00   neutral  Business  \n",
      "2  2024-07-12T22:52:55+00:00  positive  Business  \n",
      "3  2024-07-12T22:41:01+00:00  negative  Business  \n",
      "4  2024-07-12T22:28:19+00:00  positive  Business  \n"
     ]
    }
   ],
   "source": [
    "functions.show_basic_info(mediastack_df)"
   ]
  },
  {
   "cell_type": "code",
   "execution_count": 5,
   "metadata": {},
   "outputs": [
    {
     "name": "stdout",
     "output_type": "stream",
     "text": [
      "Data Types of Columns:\n",
      "Source          object\n",
      "Author          object\n",
      "Title           object\n",
      "Description     object\n",
      "URL             object\n",
      "Published At    object\n",
      "Sentiment       object\n",
      "Type            object\n",
      "dtype: object\n"
     ]
    }
   ],
   "source": [
    "functions.show_data_types(mediastack_df)"
   ]
  },
  {
   "cell_type": "code",
   "execution_count": 6,
   "metadata": {},
   "outputs": [
    {
     "name": "stdout",
     "output_type": "stream",
     "text": [
      "\n",
      "Missing Values in Columns:\n",
      "Source            0\n",
      "Author          988\n",
      "Title             0\n",
      "Description       0\n",
      "URL               0\n",
      "Published At      0\n",
      "Sentiment         0\n",
      "Type              0\n",
      "dtype: int64\n"
     ]
    }
   ],
   "source": [
    "functions.show_missing_values(mediastack_df)"
   ]
  },
  {
   "cell_type": "code",
   "execution_count": 7,
   "metadata": {},
   "outputs": [
    {
     "name": "stdout",
     "output_type": "stream",
     "text": [
      "\n",
      "There are 737 duplicate rows in the DataFrame.\n"
     ]
    }
   ],
   "source": [
    "functions.check_for_duplicates(mediastack_df)"
   ]
  },
  {
   "cell_type": "markdown",
   "metadata": {},
   "source": [
    "### Data Cleaning\n",
    "\n",
    "1. Standardize column names\n",
    "2. Replace empty values in the 'author' column with 'Unknown'\n",
    "3. Standardize publishing date format\n"
   ]
  },
  {
   "cell_type": "markdown",
   "metadata": {},
   "source": [
    "1. Rename and reorder columns"
   ]
  },
  {
   "cell_type": "code",
   "execution_count": 8,
   "metadata": {},
   "outputs": [],
   "source": [
    "rename_dict = {\n",
    "    'Source': 'source',\n",
    "    'Author': 'author',\n",
    "    'Title': 'title',\n",
    "    'Description': 'description',\n",
    "    'URL': 'url',\n",
    "    'Published At': 'published_at',\n",
    "    'Sentiment': 'sentiment',\n",
    "    'Type': 'category'\n",
    "}\n",
    "\n",
    "mediastack_df = functions.rename_columns(mediastack_df, rename_dict)"
   ]
  },
  {
   "cell_type": "code",
   "execution_count": 9,
   "metadata": {},
   "outputs": [],
   "source": [
    "new_order = ['author', 'title', 'description', 'url', 'source', 'category', 'published_at', 'sentiment']\n",
    "mediastack_df = mediastack_df[new_order]"
   ]
  },
  {
   "cell_type": "markdown",
   "metadata": {},
   "source": [
    "2. Replace empty values in the 'author' column with 'Unknown'"
   ]
  },
  {
   "cell_type": "code",
   "execution_count": 10,
   "metadata": {},
   "outputs": [],
   "source": [
    "def replace_empty_values(df, column_name, default_value):\n",
    "    \"\"\"\n",
    "    Replaces empty or missing values in the specified column with a default value.\n",
    "    \n",
    "    Parameters:\n",
    "    - df (pd.DataFrame): The DataFrame to modify.\n",
    "    - column_name (str): The name of the column to check for empty values.\n",
    "    - default_value (str): The value to replace empty or missing values with.\n",
    "    \n",
    "    Returns:\n",
    "    - pd.DataFrame: The modified DataFrame with empty values replaced.\n",
    "    \"\"\"\n",
    "    df[column_name] = df[column_name].replace(['', None], default_value)\n",
    "    return df\n"
   ]
  },
  {
   "cell_type": "code",
   "execution_count": 11,
   "metadata": {},
   "outputs": [],
   "source": [
    "mediastack_df = replace_empty_values(mediastack_df, 'author', 'Unknown')"
   ]
  },
  {
   "cell_type": "markdown",
   "metadata": {},
   "source": [
    "3. Standardize publishing date format"
   ]
  },
  {
   "cell_type": "code",
   "execution_count": 12,
   "metadata": {},
   "outputs": [],
   "source": [
    "\n",
    "def standardize_date_format(df, column_name):\n",
    "    \"\"\"\n",
    "    Standardizes the date format in the specified column to 'YYYY-MM-DD'.\n",
    "    \n",
    "    Parameters:\n",
    "    - df (pd.DataFrame): The DataFrame to modify.\n",
    "    - column_name (str): The name of the column containing the date to standardize.\n",
    "    \n",
    "    Returns:\n",
    "    - pd.DataFrame: The modified DataFrame with the standardized date format.\n",
    "    \"\"\"\n",
    "    df[column_name] = pd.to_datetime(df[column_name], errors='coerce').dt.strftime('%Y-%m-%d')\n",
    "    return df\n"
   ]
  },
  {
   "cell_type": "code",
   "execution_count": 13,
   "metadata": {},
   "outputs": [
    {
     "data": {
      "text/html": [
       "<div>\n",
       "<style scoped>\n",
       "    .dataframe tbody tr th:only-of-type {\n",
       "        vertical-align: middle;\n",
       "    }\n",
       "\n",
       "    .dataframe tbody tr th {\n",
       "        vertical-align: top;\n",
       "    }\n",
       "\n",
       "    .dataframe thead th {\n",
       "        text-align: right;\n",
       "    }\n",
       "</style>\n",
       "<table border=\"1\" class=\"dataframe\">\n",
       "  <thead>\n",
       "    <tr style=\"text-align: right;\">\n",
       "      <th></th>\n",
       "      <th>author</th>\n",
       "      <th>title</th>\n",
       "      <th>description</th>\n",
       "      <th>url</th>\n",
       "      <th>source</th>\n",
       "      <th>category</th>\n",
       "      <th>published_at</th>\n",
       "      <th>sentiment</th>\n",
       "    </tr>\n",
       "  </thead>\n",
       "  <tbody>\n",
       "    <tr>\n",
       "      <th>0</th>\n",
       "      <td>Bridger Palmer</td>\n",
       "      <td>Pine View High teacher wins Best in State awar...</td>\n",
       "      <td>ST. GEORGE — Kaitlyn Larson, a first-year teac...</td>\n",
       "      <td>https://www.stgeorgeutah.com/news/archive/2024...</td>\n",
       "      <td>stgnews</td>\n",
       "      <td>Business</td>\n",
       "      <td>2024-07-12</td>\n",
       "      <td>positive</td>\n",
       "    </tr>\n",
       "    <tr>\n",
       "      <th>1</th>\n",
       "      <td>Staff Reporter</td>\n",
       "      <td>Businesses Face Financial Strain Amid Liquidit...</td>\n",
       "      <td>Harare, Zimbabwe – Local businesses are grappl...</td>\n",
       "      <td>https://www.thezimbabwemail.com/business/busin...</td>\n",
       "      <td>Zimbabwe Mail</td>\n",
       "      <td>Business</td>\n",
       "      <td>2024-07-12</td>\n",
       "      <td>neutral</td>\n",
       "    </tr>\n",
       "    <tr>\n",
       "      <th>2</th>\n",
       "      <td>Unknown</td>\n",
       "      <td>Musk donates to super pac working to elect Tru...</td>\n",
       "      <td>(marketscreener.com) Billionaire Elon Musk has...</td>\n",
       "      <td>https://www.marketscreener.com/business-leader...</td>\n",
       "      <td>4-traders</td>\n",
       "      <td>Business</td>\n",
       "      <td>2024-07-12</td>\n",
       "      <td>positive</td>\n",
       "    </tr>\n",
       "    <tr>\n",
       "      <th>3</th>\n",
       "      <td>Unknown</td>\n",
       "      <td>US FTC issues warning to franchisors over unfa...</td>\n",
       "      <td>(marketscreener.com) A U.S. trade regulator on...</td>\n",
       "      <td>https://www.marketscreener.com/quote/stock/MCD...</td>\n",
       "      <td>4-traders</td>\n",
       "      <td>Business</td>\n",
       "      <td>2024-07-12</td>\n",
       "      <td>negative</td>\n",
       "    </tr>\n",
       "    <tr>\n",
       "      <th>4</th>\n",
       "      <td>Unknown</td>\n",
       "      <td>Rooftop solar's dark side</td>\n",
       "      <td>4.5 million households in the U.S. have solar ...</td>\n",
       "      <td>https://www.npr.org/2024/07/12/1197961036/roof...</td>\n",
       "      <td>PLANET</td>\n",
       "      <td>Business</td>\n",
       "      <td>2024-07-12</td>\n",
       "      <td>positive</td>\n",
       "    </tr>\n",
       "  </tbody>\n",
       "</table>\n",
       "</div>"
      ],
      "text/plain": [
       "           author                                              title  \\\n",
       "0  Bridger Palmer  Pine View High teacher wins Best in State awar...   \n",
       "1  Staff Reporter  Businesses Face Financial Strain Amid Liquidit...   \n",
       "2         Unknown  Musk donates to super pac working to elect Tru...   \n",
       "3         Unknown  US FTC issues warning to franchisors over unfa...   \n",
       "4         Unknown                          Rooftop solar's dark side   \n",
       "\n",
       "                                         description  \\\n",
       "0  ST. GEORGE — Kaitlyn Larson, a first-year teac...   \n",
       "1  Harare, Zimbabwe – Local businesses are grappl...   \n",
       "2  (marketscreener.com) Billionaire Elon Musk has...   \n",
       "3  (marketscreener.com) A U.S. trade regulator on...   \n",
       "4  4.5 million households in the U.S. have solar ...   \n",
       "\n",
       "                                                 url         source  category  \\\n",
       "0  https://www.stgeorgeutah.com/news/archive/2024...        stgnews  Business   \n",
       "1  https://www.thezimbabwemail.com/business/busin...  Zimbabwe Mail  Business   \n",
       "2  https://www.marketscreener.com/business-leader...      4-traders  Business   \n",
       "3  https://www.marketscreener.com/quote/stock/MCD...      4-traders  Business   \n",
       "4  https://www.npr.org/2024/07/12/1197961036/roof...         PLANET  Business   \n",
       "\n",
       "  published_at sentiment  \n",
       "0   2024-07-12  positive  \n",
       "1   2024-07-12   neutral  \n",
       "2   2024-07-12  positive  \n",
       "3   2024-07-12  negative  \n",
       "4   2024-07-12  positive  "
      ]
     },
     "execution_count": 13,
     "metadata": {},
     "output_type": "execute_result"
    }
   ],
   "source": [
    "mediastack_df = standardize_date_format(mediastack_df, 'published_at')\n",
    "\n",
    "mediastack_df.head()"
   ]
  },
  {
   "cell_type": "markdown",
   "metadata": {},
   "source": [
    "### Value counts\n",
    "\n",
    "functions.show_column_value_counts(mediastack_df, 'sentiment')\n",
    "functions.show_column_value_counts(mediastack_df, 'content_type')"
   ]
  },
  {
   "cell_type": "code",
   "execution_count": 15,
   "metadata": {},
   "outputs": [
    {
     "name": "stdout",
     "output_type": "stream",
     "text": [
      "\n",
      "Value counts for column category:\n",
      "category\n",
      "Business         500\n",
      "Entertainment    500\n",
      "General          500\n",
      "Health           500\n",
      "Science          500\n",
      "Sports           500\n",
      "Technology       500\n",
      "Name: count, dtype: int64\n"
     ]
    }
   ],
   "source": [
    "functions.show_column_value_counts(mediastack_df, 'category')"
   ]
  },
  {
   "cell_type": "code",
   "execution_count": null,
   "metadata": {},
   "outputs": [],
   "source": []
  }
 ],
 "metadata": {
  "kernelspec": {
   "display_name": "venv",
   "language": "python",
   "name": "python3"
  },
  "language_info": {
   "codemirror_mode": {
    "name": "ipython",
    "version": 3
   },
   "file_extension": ".py",
   "mimetype": "text/x-python",
   "name": "python",
   "nbconvert_exporter": "python",
   "pygments_lexer": "ipython3",
   "version": "3.12.3"
  }
 },
 "nbformat": 4,
 "nbformat_minor": 2
}
