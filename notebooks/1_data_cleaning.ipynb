{
 "cells": [
  {
   "cell_type": "markdown",
   "metadata": {},
   "source": [
    "## Check Mediastack Dataset"
   ]
  },
  {
   "cell_type": "markdown",
   "metadata": {},
   "source": [
    "#### Metadatata"
   ]
  },
  {
   "cell_type": "code",
   "execution_count": 22,
   "metadata": {},
   "outputs": [],
   "source": [
    "import pandas as pd\n",
    "import re"
   ]
  },
  {
   "cell_type": "code",
   "execution_count": 23,
   "metadata": {},
   "outputs": [],
   "source": [
    "import sys\n",
    "sys.path.append('../utils')\n",
    "import functions"
   ]
  },
  {
   "cell_type": "code",
   "execution_count": 24,
   "metadata": {},
   "outputs": [
    {
     "data": {
      "text/html": [
       "<div>\n",
       "<style scoped>\n",
       "    .dataframe tbody tr th:only-of-type {\n",
       "        vertical-align: middle;\n",
       "    }\n",
       "\n",
       "    .dataframe tbody tr th {\n",
       "        vertical-align: top;\n",
       "    }\n",
       "\n",
       "    .dataframe thead th {\n",
       "        text-align: right;\n",
       "    }\n",
       "</style>\n",
       "<table border=\"1\" class=\"dataframe\">\n",
       "  <thead>\n",
       "    <tr style=\"text-align: right;\">\n",
       "      <th></th>\n",
       "      <th>Source</th>\n",
       "      <th>Author</th>\n",
       "      <th>Title</th>\n",
       "      <th>Description</th>\n",
       "      <th>URL</th>\n",
       "      <th>Published At</th>\n",
       "      <th>Sentiment</th>\n",
       "      <th>Type</th>\n",
       "    </tr>\n",
       "  </thead>\n",
       "  <tbody>\n",
       "    <tr>\n",
       "      <th>0</th>\n",
       "      <td>stgnews</td>\n",
       "      <td>Bridger Palmer</td>\n",
       "      <td>Pine View High teacher wins Best in State awar...</td>\n",
       "      <td>ST. GEORGE — Kaitlyn Larson, a first-year teac...</td>\n",
       "      <td>https://www.stgeorgeutah.com/news/archive/2024...</td>\n",
       "      <td>2024-07-12T23:45:25+00:00</td>\n",
       "      <td>positive</td>\n",
       "      <td>Business</td>\n",
       "    </tr>\n",
       "    <tr>\n",
       "      <th>1</th>\n",
       "      <td>Zimbabwe Mail</td>\n",
       "      <td>Staff Reporter</td>\n",
       "      <td>Businesses Face Financial Strain Amid Liquidit...</td>\n",
       "      <td>Harare, Zimbabwe – Local businesses are grappl...</td>\n",
       "      <td>https://www.thezimbabwemail.com/business/busin...</td>\n",
       "      <td>2024-07-12T22:59:42+00:00</td>\n",
       "      <td>neutral</td>\n",
       "      <td>Business</td>\n",
       "    </tr>\n",
       "    <tr>\n",
       "      <th>2</th>\n",
       "      <td>4-traders</td>\n",
       "      <td>NaN</td>\n",
       "      <td>Musk donates to super pac working to elect Tru...</td>\n",
       "      <td>(marketscreener.com) Billionaire Elon Musk has...</td>\n",
       "      <td>https://www.marketscreener.com/business-leader...</td>\n",
       "      <td>2024-07-12T22:52:55+00:00</td>\n",
       "      <td>positive</td>\n",
       "      <td>Business</td>\n",
       "    </tr>\n",
       "    <tr>\n",
       "      <th>3</th>\n",
       "      <td>4-traders</td>\n",
       "      <td>NaN</td>\n",
       "      <td>US FTC issues warning to franchisors over unfa...</td>\n",
       "      <td>(marketscreener.com) A U.S. trade regulator on...</td>\n",
       "      <td>https://www.marketscreener.com/quote/stock/MCD...</td>\n",
       "      <td>2024-07-12T22:41:01+00:00</td>\n",
       "      <td>negative</td>\n",
       "      <td>Business</td>\n",
       "    </tr>\n",
       "    <tr>\n",
       "      <th>4</th>\n",
       "      <td>PLANET</td>\n",
       "      <td>NaN</td>\n",
       "      <td>Rooftop solar's dark side</td>\n",
       "      <td>4.5 million households in the U.S. have solar ...</td>\n",
       "      <td>https://www.npr.org/2024/07/12/1197961036/roof...</td>\n",
       "      <td>2024-07-12T22:28:19+00:00</td>\n",
       "      <td>positive</td>\n",
       "      <td>Business</td>\n",
       "    </tr>\n",
       "  </tbody>\n",
       "</table>\n",
       "</div>"
      ],
      "text/plain": [
       "          Source          Author  \\\n",
       "0        stgnews  Bridger Palmer   \n",
       "1  Zimbabwe Mail  Staff Reporter   \n",
       "2      4-traders             NaN   \n",
       "3      4-traders             NaN   \n",
       "4         PLANET             NaN   \n",
       "\n",
       "                                               Title  \\\n",
       "0  Pine View High teacher wins Best in State awar...   \n",
       "1  Businesses Face Financial Strain Amid Liquidit...   \n",
       "2  Musk donates to super pac working to elect Tru...   \n",
       "3  US FTC issues warning to franchisors over unfa...   \n",
       "4                          Rooftop solar's dark side   \n",
       "\n",
       "                                         Description  \\\n",
       "0  ST. GEORGE — Kaitlyn Larson, a first-year teac...   \n",
       "1  Harare, Zimbabwe – Local businesses are grappl...   \n",
       "2  (marketscreener.com) Billionaire Elon Musk has...   \n",
       "3  (marketscreener.com) A U.S. trade regulator on...   \n",
       "4  4.5 million households in the U.S. have solar ...   \n",
       "\n",
       "                                                 URL  \\\n",
       "0  https://www.stgeorgeutah.com/news/archive/2024...   \n",
       "1  https://www.thezimbabwemail.com/business/busin...   \n",
       "2  https://www.marketscreener.com/business-leader...   \n",
       "3  https://www.marketscreener.com/quote/stock/MCD...   \n",
       "4  https://www.npr.org/2024/07/12/1197961036/roof...   \n",
       "\n",
       "                Published At Sentiment      Type  \n",
       "0  2024-07-12T23:45:25+00:00  positive  Business  \n",
       "1  2024-07-12T22:59:42+00:00   neutral  Business  \n",
       "2  2024-07-12T22:52:55+00:00  positive  Business  \n",
       "3  2024-07-12T22:41:01+00:00  negative  Business  \n",
       "4  2024-07-12T22:28:19+00:00  positive  Business  "
      ]
     },
     "execution_count": 24,
     "metadata": {},
     "output_type": "execute_result"
    }
   ],
   "source": [
    "mediastack_df = pd.read_csv('../data/raw/news_sentiment_analysis.csv')\n",
    "\n",
    "mediastack_df.head()"
   ]
  },
  {
   "cell_type": "code",
   "execution_count": 25,
   "metadata": {},
   "outputs": [
    {
     "name": "stdout",
     "output_type": "stream",
     "text": [
      "\n",
      "DataFrame Shape: (3500, 8)\n",
      "Number of Rows: 3500\n",
      "Number of Columns: 8\n",
      "\n",
      "Data Types of Columns:\n",
      "Source          object\n",
      "Author          object\n",
      "Title           object\n",
      "Description     object\n",
      "URL             object\n",
      "Published At    object\n",
      "Sentiment       object\n",
      "Type            object\n",
      "dtype: object\n",
      "\n",
      "Missing Values per Column:\n",
      "Source            0\n",
      "Author          988\n",
      "Title             0\n",
      "Description       0\n",
      "URL               0\n",
      "Published At      0\n",
      "Sentiment         0\n",
      "Type              0\n",
      "dtype: int64\n",
      "\n",
      "First 5 Rows of Data:\n",
      "          Source          Author  \\\n",
      "0        stgnews  Bridger Palmer   \n",
      "1  Zimbabwe Mail  Staff Reporter   \n",
      "2      4-traders             NaN   \n",
      "3      4-traders             NaN   \n",
      "4         PLANET             NaN   \n",
      "\n",
      "                                               Title  \\\n",
      "0  Pine View High teacher wins Best in State awar...   \n",
      "1  Businesses Face Financial Strain Amid Liquidit...   \n",
      "2  Musk donates to super pac working to elect Tru...   \n",
      "3  US FTC issues warning to franchisors over unfa...   \n",
      "4                          Rooftop solar's dark side   \n",
      "\n",
      "                                         Description  \\\n",
      "0  ST. GEORGE — Kaitlyn Larson, a first-year teac...   \n",
      "1  Harare, Zimbabwe – Local businesses are grappl...   \n",
      "2  (marketscreener.com) Billionaire Elon Musk has...   \n",
      "3  (marketscreener.com) A U.S. trade regulator on...   \n",
      "4  4.5 million households in the U.S. have solar ...   \n",
      "\n",
      "                                                 URL  \\\n",
      "0  https://www.stgeorgeutah.com/news/archive/2024...   \n",
      "1  https://www.thezimbabwemail.com/business/busin...   \n",
      "2  https://www.marketscreener.com/business-leader...   \n",
      "3  https://www.marketscreener.com/quote/stock/MCD...   \n",
      "4  https://www.npr.org/2024/07/12/1197961036/roof...   \n",
      "\n",
      "                Published At Sentiment      Type  \n",
      "0  2024-07-12T23:45:25+00:00  positive  Business  \n",
      "1  2024-07-12T22:59:42+00:00   neutral  Business  \n",
      "2  2024-07-12T22:52:55+00:00  positive  Business  \n",
      "3  2024-07-12T22:41:01+00:00  negative  Business  \n",
      "4  2024-07-12T22:28:19+00:00  positive  Business  \n"
     ]
    }
   ],
   "source": [
    "functions.show_basic_info(mediastack_df)"
   ]
  },
  {
   "cell_type": "code",
   "execution_count": 26,
   "metadata": {},
   "outputs": [
    {
     "name": "stdout",
     "output_type": "stream",
     "text": [
      "Data Types of Columns:\n",
      "Source          object\n",
      "Author          object\n",
      "Title           object\n",
      "Description     object\n",
      "URL             object\n",
      "Published At    object\n",
      "Sentiment       object\n",
      "Type            object\n",
      "dtype: object\n"
     ]
    }
   ],
   "source": [
    "functions.show_data_types(mediastack_df)"
   ]
  },
  {
   "cell_type": "code",
   "execution_count": 27,
   "metadata": {},
   "outputs": [
    {
     "name": "stdout",
     "output_type": "stream",
     "text": [
      "\n",
      "Missing Values in Columns:\n",
      "Source            0\n",
      "Author          988\n",
      "Title             0\n",
      "Description       0\n",
      "URL               0\n",
      "Published At      0\n",
      "Sentiment         0\n",
      "Type              0\n",
      "dtype: int64\n"
     ]
    }
   ],
   "source": [
    "functions.show_missing_values(mediastack_df)"
   ]
  },
  {
   "cell_type": "code",
   "execution_count": 28,
   "metadata": {},
   "outputs": [
    {
     "name": "stdout",
     "output_type": "stream",
     "text": [
      "\n",
      "There are 737 duplicate rows in the DataFrame.\n"
     ]
    }
   ],
   "source": [
    "functions.check_for_duplicates(mediastack_df)"
   ]
  },
  {
   "cell_type": "markdown",
   "metadata": {},
   "source": [
    "### Data Cleaning\n",
    "\n",
    "1. Standardize column names\n",
    "2. Replace empty values in the 'author' column with 'Unknown'\n",
    "3. Standardize publishing date format\n"
   ]
  },
  {
   "cell_type": "markdown",
   "metadata": {},
   "source": [
    "1. Rename columns"
   ]
  },
  {
   "cell_type": "code",
   "execution_count": 29,
   "metadata": {},
   "outputs": [],
   "source": [
    "rename_dict = {\n",
    "    'Source': 'source',\n",
    "    'Author': 'author',\n",
    "    'Title': 'title',\n",
    "    'Description': 'description',\n",
    "    'URL': 'url',\n",
    "    'Published At': 'publish_date',\n",
    "    'Sentiment': 'sentiment',\n",
    "    'Type': 'content_type'\n",
    "}\n",
    "\n",
    "mediastack_df = functions.rename_columns(mediastack_df, rename_dict)"
   ]
  },
  {
   "cell_type": "code",
   "execution_count": 30,
   "metadata": {},
   "outputs": [
    {
     "data": {
      "text/html": [
       "<div>\n",
       "<style scoped>\n",
       "    .dataframe tbody tr th:only-of-type {\n",
       "        vertical-align: middle;\n",
       "    }\n",
       "\n",
       "    .dataframe tbody tr th {\n",
       "        vertical-align: top;\n",
       "    }\n",
       "\n",
       "    .dataframe thead th {\n",
       "        text-align: right;\n",
       "    }\n",
       "</style>\n",
       "<table border=\"1\" class=\"dataframe\">\n",
       "  <thead>\n",
       "    <tr style=\"text-align: right;\">\n",
       "      <th></th>\n",
       "      <th>source</th>\n",
       "      <th>author</th>\n",
       "      <th>title</th>\n",
       "      <th>description</th>\n",
       "      <th>url</th>\n",
       "      <th>publish_date</th>\n",
       "      <th>sentiment</th>\n",
       "      <th>content_type</th>\n",
       "    </tr>\n",
       "  </thead>\n",
       "  <tbody>\n",
       "    <tr>\n",
       "      <th>0</th>\n",
       "      <td>stgnews</td>\n",
       "      <td>Bridger Palmer</td>\n",
       "      <td>Pine View High teacher wins Best in State awar...</td>\n",
       "      <td>ST. GEORGE — Kaitlyn Larson, a first-year teac...</td>\n",
       "      <td>https://www.stgeorgeutah.com/news/archive/2024...</td>\n",
       "      <td>2024-07-12T23:45:25+00:00</td>\n",
       "      <td>positive</td>\n",
       "      <td>Business</td>\n",
       "    </tr>\n",
       "    <tr>\n",
       "      <th>1</th>\n",
       "      <td>Zimbabwe Mail</td>\n",
       "      <td>Staff Reporter</td>\n",
       "      <td>Businesses Face Financial Strain Amid Liquidit...</td>\n",
       "      <td>Harare, Zimbabwe – Local businesses are grappl...</td>\n",
       "      <td>https://www.thezimbabwemail.com/business/busin...</td>\n",
       "      <td>2024-07-12T22:59:42+00:00</td>\n",
       "      <td>neutral</td>\n",
       "      <td>Business</td>\n",
       "    </tr>\n",
       "    <tr>\n",
       "      <th>2</th>\n",
       "      <td>4-traders</td>\n",
       "      <td>NaN</td>\n",
       "      <td>Musk donates to super pac working to elect Tru...</td>\n",
       "      <td>(marketscreener.com) Billionaire Elon Musk has...</td>\n",
       "      <td>https://www.marketscreener.com/business-leader...</td>\n",
       "      <td>2024-07-12T22:52:55+00:00</td>\n",
       "      <td>positive</td>\n",
       "      <td>Business</td>\n",
       "    </tr>\n",
       "    <tr>\n",
       "      <th>3</th>\n",
       "      <td>4-traders</td>\n",
       "      <td>NaN</td>\n",
       "      <td>US FTC issues warning to franchisors over unfa...</td>\n",
       "      <td>(marketscreener.com) A U.S. trade regulator on...</td>\n",
       "      <td>https://www.marketscreener.com/quote/stock/MCD...</td>\n",
       "      <td>2024-07-12T22:41:01+00:00</td>\n",
       "      <td>negative</td>\n",
       "      <td>Business</td>\n",
       "    </tr>\n",
       "    <tr>\n",
       "      <th>4</th>\n",
       "      <td>PLANET</td>\n",
       "      <td>NaN</td>\n",
       "      <td>Rooftop solar's dark side</td>\n",
       "      <td>4.5 million households in the U.S. have solar ...</td>\n",
       "      <td>https://www.npr.org/2024/07/12/1197961036/roof...</td>\n",
       "      <td>2024-07-12T22:28:19+00:00</td>\n",
       "      <td>positive</td>\n",
       "      <td>Business</td>\n",
       "    </tr>\n",
       "  </tbody>\n",
       "</table>\n",
       "</div>"
      ],
      "text/plain": [
       "          source          author  \\\n",
       "0        stgnews  Bridger Palmer   \n",
       "1  Zimbabwe Mail  Staff Reporter   \n",
       "2      4-traders             NaN   \n",
       "3      4-traders             NaN   \n",
       "4         PLANET             NaN   \n",
       "\n",
       "                                               title  \\\n",
       "0  Pine View High teacher wins Best in State awar...   \n",
       "1  Businesses Face Financial Strain Amid Liquidit...   \n",
       "2  Musk donates to super pac working to elect Tru...   \n",
       "3  US FTC issues warning to franchisors over unfa...   \n",
       "4                          Rooftop solar's dark side   \n",
       "\n",
       "                                         description  \\\n",
       "0  ST. GEORGE — Kaitlyn Larson, a first-year teac...   \n",
       "1  Harare, Zimbabwe – Local businesses are grappl...   \n",
       "2  (marketscreener.com) Billionaire Elon Musk has...   \n",
       "3  (marketscreener.com) A U.S. trade regulator on...   \n",
       "4  4.5 million households in the U.S. have solar ...   \n",
       "\n",
       "                                                 url  \\\n",
       "0  https://www.stgeorgeutah.com/news/archive/2024...   \n",
       "1  https://www.thezimbabwemail.com/business/busin...   \n",
       "2  https://www.marketscreener.com/business-leader...   \n",
       "3  https://www.marketscreener.com/quote/stock/MCD...   \n",
       "4  https://www.npr.org/2024/07/12/1197961036/roof...   \n",
       "\n",
       "                publish_date sentiment content_type  \n",
       "0  2024-07-12T23:45:25+00:00  positive     Business  \n",
       "1  2024-07-12T22:59:42+00:00   neutral     Business  \n",
       "2  2024-07-12T22:52:55+00:00  positive     Business  \n",
       "3  2024-07-12T22:41:01+00:00  negative     Business  \n",
       "4  2024-07-12T22:28:19+00:00  positive     Business  "
      ]
     },
     "execution_count": 30,
     "metadata": {},
     "output_type": "execute_result"
    }
   ],
   "source": [
    "mediastack_df.head()"
   ]
  }
 ],
 "metadata": {
  "kernelspec": {
   "display_name": "venv",
   "language": "python",
   "name": "python3"
  },
  "language_info": {
   "codemirror_mode": {
    "name": "ipython",
    "version": 3
   },
   "file_extension": ".py",
   "mimetype": "text/x-python",
   "name": "python",
   "nbconvert_exporter": "python",
   "pygments_lexer": "ipython3",
   "version": "3.12.3"
  }
 },
 "nbformat": 4,
 "nbformat_minor": 2
}
