{
 "cells": [
  {
   "cell_type": "markdown",
   "metadata": {},
   "source": [
    "## Check Mediastack Dataset"
   ]
  },
  {
   "cell_type": "markdown",
   "metadata": {},
   "source": [
    "#### Metadatata"
   ]
  },
  {
   "cell_type": "code",
   "execution_count": 1,
   "metadata": {},
   "outputs": [],
   "source": [
    "import pandas as pd\n",
    "from langdetect import detect, DetectorFactory\n",
    "from langdetect.lang_detect_exception import LangDetectException"
   ]
  },
  {
   "cell_type": "code",
   "execution_count": 2,
   "metadata": {},
   "outputs": [],
   "source": [
    "import sys\n",
    "sys.path.append('../utils')\n",
    "import functions\n",
    "import source_country_mapping"
   ]
  },
  {
   "cell_type": "code",
   "execution_count": null,
   "metadata": {},
   "outputs": [],
   "source": [
    "mediastack_df = pd.read_csv('../data/raw/news_sentiment_analysis.csv')\n",
    "\n",
    "mediastack_df.head()"
   ]
  },
  {
   "cell_type": "markdown",
   "metadata": {},
   "source": [
    "#### Dataset overview"
   ]
  },
  {
   "cell_type": "code",
   "execution_count": null,
   "metadata": {},
   "outputs": [],
   "source": [
    "functions.show_basic_info(mediastack_df)"
   ]
  },
  {
   "cell_type": "code",
   "execution_count": null,
   "metadata": {},
   "outputs": [],
   "source": [
    "functions.show_data_types(mediastack_df)"
   ]
  },
  {
   "cell_type": "code",
   "execution_count": null,
   "metadata": {},
   "outputs": [],
   "source": [
    "functions.show_missing_values(mediastack_df)"
   ]
  },
  {
   "cell_type": "code",
   "execution_count": null,
   "metadata": {},
   "outputs": [],
   "source": [
    "functions.check_for_duplicates(mediastack_df)"
   ]
  },
  {
   "cell_type": "markdown",
   "metadata": {},
   "source": [
    "#### Check earliest and latest date in the dataset"
   ]
  },
  {
   "cell_type": "code",
   "execution_count": null,
   "metadata": {},
   "outputs": [],
   "source": [
    "earliest_date = mediastack_df['Published At'].min()\n",
    "latest_date = mediastack_df['Published At'].max()\n",
    "\n",
    "print(f'Earliest date in the dataset: {earliest_date}')\n",
    "print(f'Latest date in the dataset: {latest_date}')"
   ]
  },
  {
   "cell_type": "markdown",
   "metadata": {},
   "source": [
    "### **Data Cleaning**\n",
    "\n",
    "1. Standardize column names\n",
    "2. Replace empty values in the 'author' column with 'Unknown'\n",
    "3. Standardize publishing date format\n",
    "4. Convert columns to lowercase\n",
    "5. Clean source names\n",
    "6. Remove non-English rows\n"
   ]
  },
  {
   "cell_type": "markdown",
   "metadata": {},
   "source": [
    "1. Rename and reorder columns"
   ]
  },
  {
   "cell_type": "code",
   "execution_count": 9,
   "metadata": {},
   "outputs": [],
   "source": [
    "rename_dict = {\n",
    "    'Source': 'source',\n",
    "    'Author': 'author',\n",
    "    'Title': 'title',\n",
    "    'Description': 'description',\n",
    "    'URL': 'url',\n",
    "    'Published At': 'published_at',\n",
    "    'Sentiment': 'sentiment',\n",
    "    'Type': 'category'\n",
    "}\n",
    "\n",
    "mediastack_df = functions.rename_columns(mediastack_df, rename_dict)"
   ]
  },
  {
   "cell_type": "code",
   "execution_count": 10,
   "metadata": {},
   "outputs": [],
   "source": [
    "new_order = ['author', 'title', 'description', 'url', 'source', 'category', 'published_at', 'sentiment']\n",
    "mediastack_df = mediastack_df[new_order]"
   ]
  },
  {
   "cell_type": "markdown",
   "metadata": {},
   "source": [
    "2. Replace empty values in the 'author' column with 'Unknown'"
   ]
  },
  {
   "cell_type": "code",
   "execution_count": 11,
   "metadata": {},
   "outputs": [],
   "source": [
    "def replace_empty_values(df, column_name, default_value):\n",
    "    \"\"\"\n",
    "    Replaces empty or missing values in the specified column with a default value.\n",
    "    \n",
    "    Parameters:\n",
    "    - df (pd.DataFrame): The DataFrame to modify.\n",
    "    - column_name (str): The name of the column to check for empty values.\n",
    "    - default_value (str): The value to replace empty or missing values with.\n",
    "    \n",
    "    Returns:\n",
    "    - pd.DataFrame: The modified DataFrame with empty values replaced.\n",
    "    \"\"\"\n",
    "    df[column_name] = df[column_name].replace(['', None], default_value)\n",
    "    return df"
   ]
  },
  {
   "cell_type": "code",
   "execution_count": 12,
   "metadata": {},
   "outputs": [],
   "source": [
    "mediastack_df = replace_empty_values(mediastack_df, 'author', 'Unknown')"
   ]
  },
  {
   "cell_type": "markdown",
   "metadata": {},
   "source": [
    "3. Standardize publishing date format"
   ]
  },
  {
   "cell_type": "code",
   "execution_count": 13,
   "metadata": {},
   "outputs": [],
   "source": [
    "def standardize_date_format(df, column_name):\n",
    "    \"\"\"\n",
    "    Standardizes the date format in the specified column to 'YYYY-MM-DD'.\n",
    "    \n",
    "    Parameters:\n",
    "    - df (pd.DataFrame): The DataFrame to modify.\n",
    "    - column_name (str): The name of the column containing the date to standardize.\n",
    "    \n",
    "    Returns:\n",
    "    - pd.DataFrame: The modified DataFrame with the standardized date format.\n",
    "    \"\"\"\n",
    "    df[column_name] = pd.to_datetime(df[column_name], errors='coerce').dt.strftime('%Y-%m-%d')\n",
    "    return df"
   ]
  },
  {
   "cell_type": "code",
   "execution_count": 14,
   "metadata": {},
   "outputs": [],
   "source": [
    "mediastack_df = standardize_date_format(mediastack_df, 'published_at')\n",
    "# mediastack_df.head()"
   ]
  },
  {
   "cell_type": "markdown",
   "metadata": {},
   "source": [
    "4. Columns to lowercase"
   ]
  },
  {
   "cell_type": "code",
   "execution_count": 15,
   "metadata": {},
   "outputs": [],
   "source": [
    "columns_to_convert = ['category', 'source']\n",
    "\n",
    "for column in columns_to_convert:\n",
    "    functions.convert_strings_to_lowercase(mediastack_df, column)"
   ]
  },
  {
   "cell_type": "markdown",
   "metadata": {},
   "source": [
    "5. Clean source names"
   ]
  },
  {
   "cell_type": "code",
   "execution_count": 16,
   "metadata": {},
   "outputs": [],
   "source": [
    "mediastack_df['source'] = mediastack_df['source'].apply(functions.clean_source_names)\n",
    "# mediastack_df.head()"
   ]
  },
  {
   "cell_type": "markdown",
   "metadata": {},
   "source": [
    "6. Remove non-English rows"
   ]
  },
  {
   "cell_type": "code",
   "execution_count": 17,
   "metadata": {},
   "outputs": [],
   "source": [
    "DetectorFactory.seed = 0    # seed for consistency in language detection\n",
    "\n",
    "def detect_languages_and_filter(df, text_column):\n",
    "    \"\"\"\n",
    "    Detects languages in a specified column of a Pandas DataFrame and filters out non-English rows.\n",
    "\n",
    "    Args:\n",
    "        df (pd.DataFrame): DataFrame containing the text data.\n",
    "        text_column (str): The name of the column with the text data.\n",
    "\n",
    "    Returns:\n",
    "        pd.DataFrame: Filtered DataFrame containing only English rows.\n",
    "    \"\"\"\n",
    "    detected_languages = []\n",
    "\n",
    "    for text in df[text_column]:\n",
    "        try:\n",
    "            lang = detect(text)\n",
    "            detected_languages.append(lang)\n",
    "        except LangDetectException:\n",
    "            detected_languages.append('unknown')\n",
    "\n",
    "    df['detected_language'] = detected_languages\n",
    "\n",
    "    filtered_df = df[df['detected_language'] == 'en']   # filter out rows in English\n",
    "\n",
    "    filtered_df = filtered_df.drop(columns=['detected_language'])   # drop the 'detected_language' column\n",
    "\n",
    "    return filtered_df\n",
    "\n",
    "filtered_df = detect_languages_and_filter(mediastack_df, 'description')"
   ]
  },
  {
   "cell_type": "code",
   "execution_count": null,
   "metadata": {},
   "outputs": [],
   "source": [
    "display(filtered_df)"
   ]
  },
  {
   "cell_type": "markdown",
   "metadata": {},
   "source": [
    "#### Value counts"
   ]
  },
  {
   "cell_type": "code",
   "execution_count": null,
   "metadata": {},
   "outputs": [],
   "source": [
    "print('Value counts for category column:')\n",
    "functions.show_column_value_counts(filtered_df, 'category')\n",
    "print('Value counts for clean_source column:')\n",
    "functions.show_column_values(filtered_df, 'clean_source')"
   ]
  },
  {
   "cell_type": "code",
   "execution_count": null,
   "metadata": {},
   "outputs": [],
   "source": [
    "functions.show_column_values(filtered_df, 'source')"
   ]
  },
  {
   "cell_type": "markdown",
   "metadata": {},
   "source": [
    "#### Check Filtered DF for missing values and duplicates"
   ]
  },
  {
   "cell_type": "code",
   "execution_count": null,
   "metadata": {},
   "outputs": [],
   "source": [
    "functions.show_missing_values(filtered_df)"
   ]
  },
  {
   "cell_type": "code",
   "execution_count": null,
   "metadata": {},
   "outputs": [],
   "source": [
    "functions.check_for_duplicates(filtered_df)"
   ]
  },
  {
   "cell_type": "code",
   "execution_count": null,
   "metadata": {},
   "outputs": [],
   "source": [
    "filtered_df = functions.remove_duplicates(filtered_df)"
   ]
  },
  {
   "cell_type": "markdown",
   "metadata": {},
   "source": [
    "#### Clean 'description' column"
   ]
  },
  {
   "cell_type": "code",
   "execution_count": null,
   "metadata": {},
   "outputs": [],
   "source": [
    "# show the full text in the columns\n",
    "pd.set_option('display.max_colwidth', None)\n",
    "pd.set_option('display.max_rows', 50) \n",
    "\n",
    "print(filtered_df['description'].head(10))"
   ]
  },
  {
   "cell_type": "markdown",
   "metadata": {},
   "source": [
    "#### Check description and title columns"
   ]
  },
  {
   "cell_type": "code",
   "execution_count": 25,
   "metadata": {},
   "outputs": [],
   "source": [
    "filtered_df['clean_description'] = filtered_df['description'].apply(functions.clean_text)\n",
    "filtered_df['clean_title'] = filtered_df['title'].apply(functions.clean_text)"
   ]
  },
  {
   "cell_type": "code",
   "execution_count": null,
   "metadata": {},
   "outputs": [],
   "source": [
    "print(filtered_df['clean_description'].head(10))"
   ]
  },
  {
   "cell_type": "code",
   "execution_count": null,
   "metadata": {},
   "outputs": [],
   "source": [
    "print(filtered_df['clean_title'].head(20))"
   ]
  },
  {
   "cell_type": "markdown",
   "metadata": {},
   "source": [
    "### Add country columns (name and code) to the dataframe using source country dictionary"
   ]
  },
  {
   "cell_type": "code",
   "execution_count": 28,
   "metadata": {},
   "outputs": [],
   "source": [
    "filtered_df = source_country_mapping.add_country_column(filtered_df, 'source')"
   ]
  },
  {
   "cell_type": "code",
   "execution_count": 29,
   "metadata": {},
   "outputs": [],
   "source": [
    "filtered_df = source_country_mapping.add_country_code_column(filtered_df, 'country')"
   ]
  },
  {
   "cell_type": "code",
   "execution_count": null,
   "metadata": {},
   "outputs": [],
   "source": [
    "filtered_df.head()"
   ]
  },
  {
   "cell_type": "markdown",
   "metadata": {},
   "source": [
    "#### Create a new CSV file with the cleaned data"
   ]
  },
  {
   "cell_type": "code",
   "execution_count": 32,
   "metadata": {},
   "outputs": [],
   "source": [
    "# filtered_df.to_csv('../data/clean/1_mediastack_news_cleaned.csv', index=False)"
   ]
  }
 ],
 "metadata": {
  "kernelspec": {
   "display_name": "venv",
   "language": "python",
   "name": "python3"
  },
  "language_info": {
   "codemirror_mode": {
    "name": "ipython",
    "version": 3
   },
   "file_extension": ".py",
   "mimetype": "text/x-python",
   "name": "python",
   "nbconvert_exporter": "python",
   "pygments_lexer": "ipython3",
   "version": "3.12.3"
  }
 },
 "nbformat": 4,
 "nbformat_minor": 2
}
