{
 "cells": [
  {
   "cell_type": "markdown",
   "metadata": {},
   "source": [
    "# API Call from Mediastack Open API\n",
    "\n",
    "[Documentation](https://mediastack.com/documentation)\n",
    "\n",
    "[API Key](https://mediastack.com/account/api-keys)\n"
   ]
  },
  {
   "cell_type": "code",
   "execution_count": null,
   "metadata": {},
   "outputs": [],
   "source": [
    "import sys\n",
    "import os\n",
    "import json\n",
    "import http.client\n",
    "import urllib.parse\n",
    "\n",
    "import pandas as pd\n",
    "from dotenv import load_dotenv\n",
    "\n",
    "sys.path.append('../utils')\n",
    "import functions"
   ]
  },
  {
   "cell_type": "markdown",
   "metadata": {},
   "source": [
    "#### API Call"
   ]
  },
  {
   "cell_type": "code",
   "execution_count": 2,
   "metadata": {},
   "outputs": [],
   "source": [
    "# conn = http.client.HTTPConnection('api.mediastack.com')\n",
    "\n",
    "# params = urllib.parse.urlencode({\n",
    "#     'access_key': os.getenv('MEDIASTACK_API_KEY'),\n",
    "#     'languages': 'en',\n",
    "#     'categories': 'general',\n",
    "#     'sort': 'published_desc',\n",
    "#     'limit': 10,\n",
    "#     })\n",
    "\n",
    "# conn.request('GET', '/v1/news?{}'.format(params))\n",
    "\n",
    "# res = conn.getresponse()\n",
    "# data = res.read()\n",
    "\n",
    "# print(data.decode('utf-8'))"
   ]
  },
  {
   "cell_type": "markdown",
   "metadata": {},
   "source": [
    "#### Read JSON"
   ]
  },
  {
   "cell_type": "code",
   "execution_count": null,
   "metadata": {},
   "outputs": [],
   "source": [
    "with open('../data/raw/test_api_response.json', 'r') as file:\n",
    "    json_data = json.load(file)\n",
    "\n",
    "pretty_json = json.dumps(json_data, indent=4)    # prettify json response\n",
    "\n",
    "print(pretty_json)"
   ]
  },
  {
   "cell_type": "markdown",
   "metadata": {},
   "source": [
    "#### Store response data in a dataframe"
   ]
  },
  {
   "cell_type": "code",
   "execution_count": null,
   "metadata": {},
   "outputs": [],
   "source": [
    "articles = json_data['data']\n",
    "\n",
    "response_df = pd.DataFrame(articles, columns=['author', 'title', 'description', 'url', 'source', 'category', 'language', 'country', 'published_at'])\n",
    "\n",
    "display(response_df)"
   ]
  },
  {
   "cell_type": "markdown",
   "metadata": {},
   "source": [
    "#### Format response dataset\n",
    "- Convert date to YYYY-MM-DD format\n",
    "- Get full language name using pycountry\n",
    "- Get full country name using pycountry\n",
    "- Clean text in 'description' and 'title' columns"
   ]
  },
  {
   "cell_type": "code",
   "execution_count": 5,
   "metadata": {},
   "outputs": [],
   "source": [
    "response_df = response_df.apply(functions.format_response_data, axis=1)\n",
    "response_df['title'] = response_df['title'].apply(functions.clean_text)\n",
    "response_df['description'] = response_df['description'].apply(functions.clean_text)"
   ]
  },
  {
   "cell_type": "code",
   "execution_count": null,
   "metadata": {},
   "outputs": [],
   "source": [
    "display(response_df)"
   ]
  }
 ],
 "metadata": {
  "kernelspec": {
   "display_name": "venv",
   "language": "python",
   "name": "python3"
  },
  "language_info": {
   "codemirror_mode": {
    "name": "ipython",
    "version": 3
   },
   "file_extension": ".py",
   "mimetype": "text/x-python",
   "name": "python",
   "nbconvert_exporter": "python",
   "pygments_lexer": "ipython3",
   "version": "3.12.3"
  }
 },
 "nbformat": 4,
 "nbformat_minor": 2
}
